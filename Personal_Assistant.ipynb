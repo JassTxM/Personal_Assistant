{
  "cells": [
    {
      "cell_type": "markdown",
      "metadata": {
        "id": "VG6wLKhU0IAL"
      },
      "source": [
        "# **Basic Structure**"
      ]
    },
    {
      "cell_type": "code",
      "execution_count": null,
      "metadata": {
        "id": "jxyNAu8y17AI"
      },
      "outputs": [],
      "source": [
        "!pip install -q -U google-generativeai"
      ]
    },
    {
      "cell_type": "code",
      "execution_count": null,
      "metadata": {
        "id": "hE5EvHbK_-Nx"
      },
      "outputs": [],
      "source": [
        "!pip install gTTS"
      ]
    },
    {
      "cell_type": "code",
      "execution_count": 6,
      "metadata": {
        "id": "tF7Sei0K1bkr"
      },
      "outputs": [],
      "source": [
        "GOOGLE_API_KEY = \"\"         #Enter your api key\n",
        "model = genai.GenerativeModel('gemini-pro')"
      ]
    },
    {
      "cell_type": "code",
      "execution_count": null,
      "metadata": {
        "id": "8pN_AhgP4VP3"
      },
      "outputs": [],
      "source": [
        "import pathlib\n",
        "import textwrap\n",
        "\n",
        "import google.generativeai as genai\n",
        "\n",
        "from IPython.display import display\n",
        "from IPython.display import Markdown\n",
        "from IPython.display import Audio, display\n",
        "from gtts import gTTS\n",
        "\n",
        "\n",
        "def to_markdown(text):\n",
        "  text = text.replace('•', '  *')\n",
        "  return Markdown(textwrap.indent(text, '> ', predicate=lambda _: True))\n",
        "\n",
        "genai.configure(api_key=GOOGLE_API_KEY)"
      ]
    },
    {
      "cell_type": "code",
      "execution_count": 7,
      "metadata": {
        "id": "Z91tRcpI6WHb"
      },
      "outputs": [],
      "source": [
        "def ask_question(name):\n",
        "    ques = 'Hey ' + name + ', What do you want ?'\n",
        "    ques = input(ques)\n",
        "    return ques\n"
      ]
    },
    {
      "cell_type": "code",
      "execution_count": null,
      "metadata": {
        "id": "V_jr-47V60g1"
      },
      "outputs": [],
      "source": [
        "ask_question(\"jass\")"
      ]
    },
    {
      "cell_type": "code",
      "execution_count": 8,
      "metadata": {
        "id": "0XfAITfI7fOk"
      },
      "outputs": [],
      "source": [
        "def classify_ques(ques):\n",
        "  device_lt = ['alarm','reminder','messsage','Call']\n",
        "  personal_lt = ['who are you?','who created you?']\n",
        "\n",
        "  device = False\n",
        "  for i in device_lt:\n",
        "    if i in ques:\n",
        "      device = True\n",
        "\n",
        "  if device:\n",
        "    print(\"This is a Device things , Personal Assistant does not support this!\")\n",
        "\n",
        "  personal_question = False\n",
        "  for i in personal_lt:\n",
        "    if i in ques.lower():\n",
        "       personal_question= True\n",
        "\n",
        "  if personal_question:\n",
        "    print(\"I am a Personal Assistant, created by Jaskirat Singh\")\n",
        "\n",
        "\n",
        "\n",
        "\n",
        "  if device:\n",
        "    goahead_with_web_search = False\n",
        "  elif personal_question:\n",
        "    goahead_with_web_search = False\n",
        "  else:\n",
        "    goahead_with_web_search = True\n",
        "\n",
        "  return goahead_with_web_search\n",
        "\n",
        "\n"
      ]
    },
    {
      "cell_type": "code",
      "execution_count": null,
      "metadata": {
        "id": "qWMiJtkZwv3X"
      },
      "outputs": [],
      "source": [
        "classify_ques(\"Who are you?\")"
      ]
    },
    {
      "cell_type": "markdown",
      "metadata": {
        "id": "wAthANiR0O9q"
      },
      "source": [
        "# **Google Gemini**"
      ]
    },
    {
      "cell_type": "code",
      "execution_count": 9,
      "metadata": {
        "id": "ztL1jd4P34O-"
      },
      "outputs": [],
      "source": [
        "def ask_ai(ques):\n",
        "  modified_prompt = 'Hey give me answer to this question' + ques +'in maximum of 50 words'\n",
        "\n",
        "  response = model.generate_content(ques)\n",
        "\n",
        "  to_markdown(response.text)\n",
        "\n",
        "  return response.text"
      ]
    },
    {
      "cell_type": "code",
      "execution_count": 10,
      "metadata": {
        "id": "AQuz3JEjAU6m"
      },
      "outputs": [],
      "source": [
        "def speak(answer):\n",
        "  tts = gTTS(answer)\n",
        "  tts.save('audio.mp3')\n",
        "  display(Audio('audio.mp3', autoplay=True))"
      ]
    },
    {
      "cell_type": "code",
      "execution_count": 11,
      "metadata": {
        "id": "xWlHunNi4sKX"
      },
      "outputs": [],
      "source": [
        "have_any_ques = 'y'\n",
        "name = ''\n",
        "\n",
        "while have_any_ques == 'y':\n",
        "\n",
        "  if name == '':\n",
        "    name = input(\"Hey, What is your name ? -\" )\n",
        "\n",
        "  q = ask_question(name)\n",
        "\n",
        "  go_ahead = classify_ques(q)\n",
        "  answer = ''\n",
        "\n",
        "  if go_ahead == True:\n",
        "    answer = ask_ai(q)\n",
        "    speak(answer)\n",
        "    print(answer)\n",
        "\n",
        "  have_any_ques = input(\"Do you have any other question ? - \")\n"
      ]
    }
  ],
  "metadata": {
    "colab": {
      "provenance": []
    },
    "kernelspec": {
      "display_name": "Python 3",
      "name": "python3"
    },
    "language_info": {
      "codemirror_mode": {
        "name": "ipython",
        "version": 3
      },
      "file_extension": ".py",
      "mimetype": "text/x-python",
      "name": "python",
      "nbconvert_exporter": "python",
      "pygments_lexer": "ipython3",
      "version": "3.11.9"
    }
  },
  "nbformat": 4,
  "nbformat_minor": 0
}
